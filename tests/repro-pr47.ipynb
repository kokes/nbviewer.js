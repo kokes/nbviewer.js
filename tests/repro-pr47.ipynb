{
 "cells": [
  {
   "cell_type": "markdown",
   "metadata": {},
   "source": [
    "# Test for PR #47\n",
    "\n",
    "This ipynb was edited and saved with VSCode (version 1.47.3)."
   ]
  },
  {
   "cell_type": "code",
   "execution_count": 3,
   "metadata": {
    "tags": []
   },
   "outputs": [
    {
     "output_type": "stream",
     "name": "stdout",
     "text": "A multi-line\nstring\n\n"
    }
   ],
   "source": [
    "print(\"\"\"A multi-line\n",
    "string\n",
    "\"\"\")"
   ]
  }
 ],
 "metadata": {
  "kernelspec": {
   "display_name": "Python 3.8.5 64-bit",
   "language": "python",
   "name": "python_defaultSpec_1611999024431"
  },
  "language_info": {
   "name": "",
   "version": "3.8.3-final"
  }
 },
 "nbformat": 4,
 "nbformat_minor": 4
}